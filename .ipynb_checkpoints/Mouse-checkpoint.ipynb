{
 "cells": [
  {
   "cell_type": "code",
   "execution_count": 2,
   "id": "b75f27ba",
   "metadata": {},
   "outputs": [
    {
     "name": "stdout",
     "output_type": "stream",
     "text": [
      "(370, 314, 1)\n",
      "(185, 404, 1)\n",
      "(154, 329, 1)\n",
      "(331, 382, 1)\n"
     ]
    }
   ],
   "source": [
    "import cv2\n",
    "import numpy as np\n",
    "\n",
    "prevX,prevY=-1,-1\n",
    "def printCoordinate(event, x, y, flags, params):\n",
    "    global prevX,prevY\n",
    "    if event==cv2.EVENT_LBUTTONDOWN:\n",
    "        cv2.circle(img,(x,y),3,(255,255,255),-1)\n",
    "        strXY='('+str(x)+','+str(y)+')'\n",
    "        planeMatrix = (x, y, 1)\n",
    "        print(planeMatrix)\n",
    "        font=cv2.FONT_HERSHEY_PLAIN\n",
    "        cv2.putText(img,strXY,(x+10,y-10),font,1,(255,255,255))\n",
    "        if prevX==-1 and prevY==-1:\n",
    "            prevX,prevY=x,y\n",
    "        else:\n",
    "            prevX,prevY=-1,-1\n",
    "        cv2.imshow(\"image\",img)\n",
    "img = cv2.imread('Images/0.png')\n",
    "cv2.imshow(\"image\",img)\n",
    "cv2.setMouseCallback(\"image\",printCoordinate)\n",
    "cv2.waitKey()\n",
    "cv2.destroyAllWindows()"
   ]
  },
  {
   "cell_type": "code",
   "execution_count": null,
   "id": "60820482",
   "metadata": {},
   "outputs": [],
   "source": []
  }
 ],
 "metadata": {
  "kernelspec": {
   "display_name": "Python 3 (ipykernel)",
   "language": "python",
   "name": "python3"
  },
  "language_info": {
   "codemirror_mode": {
    "name": "ipython",
    "version": 3
   },
   "file_extension": ".py",
   "mimetype": "text/x-python",
   "name": "python",
   "nbconvert_exporter": "python",
   "pygments_lexer": "ipython3",
   "version": "3.8.6"
  }
 },
 "nbformat": 4,
 "nbformat_minor": 5
}
