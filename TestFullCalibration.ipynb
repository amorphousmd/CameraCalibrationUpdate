{
 "cells": [
  {
   "cell_type": "code",
   "execution_count": 33,
   "id": "f5a1e01a",
   "metadata": {},
   "outputs": [
    {
     "name": "stdout",
     "output_type": "stream",
     "text": [
      "[[[ 45.90908  333.01834 ]]\n",
      "\n",
      " [[ 44.732777 296.5466  ]]\n",
      "\n",
      " [[ 43.868443 259.65988 ]]\n",
      "\n",
      " [[ 42.60421  223.04715 ]]\n",
      "\n",
      " [[ 41.91295  186.33113 ]]\n",
      "\n",
      " [[ 41.705578 149.46207 ]]\n",
      "\n",
      " [[ 41.769547 113.02235 ]]\n",
      "\n",
      " [[ 83.65147  331.96585 ]]\n",
      "\n",
      " [[ 82.73407  295.60776 ]]\n",
      "\n",
      " [[ 81.80902  258.76434 ]]\n",
      "\n",
      " [[ 80.74097  222.34503 ]]\n",
      "\n",
      " [[ 79.82566  185.61302 ]]\n",
      "\n",
      " [[ 79.63622  148.8949  ]]\n",
      "\n",
      " [[ 79.599625 112.54216 ]]\n",
      "\n",
      " [[120.92403  331.28867 ]]\n",
      "\n",
      " [[120.22875  294.77762 ]]\n",
      "\n",
      " [[119.35798  258.1793  ]]\n",
      "\n",
      " [[118.50692  221.58434 ]]\n",
      "\n",
      " [[117.68216  185.1509  ]]\n",
      "\n",
      " [[117.52841  148.43082 ]]\n",
      "\n",
      " [[117.16511  112.169624]]\n",
      "\n",
      " [[157.81522  330.58362 ]]\n",
      "\n",
      " [[157.3921   293.98044 ]]\n",
      "\n",
      " [[156.6153   257.34177 ]]\n",
      "\n",
      " [[155.88177  220.95    ]]\n",
      "\n",
      " [[155.32243  184.45726 ]]\n",
      "\n",
      " [[154.88914  147.88818 ]]\n",
      "\n",
      " [[154.28537  111.44098 ]]]\n"
     ]
    }
   ],
   "source": [
    "import numpy as np\n",
    "import cv2 as cv\n",
    "import glob\n",
    "import logging\n",
    "import copy\n",
    "\n",
    "# FIND CHESSBOARD CORNERS - OBJECT POINTS AND IMAGE POINTS\n",
    "\n",
    "chessboardSize = (7, 4)\n",
    "frameSize = (640, 480)\n",
    "\n",
    "# termination criteria\n",
    "criteria = (cv.TERM_CRITERIA_EPS + cv.TERM_CRITERIA_MAX_ITER, 30, 0.001)\n",
    "\n",
    "# prepare object points, like (0,0,0), (1,0,0), (2,0,0) ....,(6,5,0)\n",
    "objp = np.zeros((chessboardSize[0] * chessboardSize[1], 3), np.float32)\n",
    "objp[:,:2] = np.mgrid[0:chessboardSize[0],0:chessboardSize[1]].T.reshape(-1,2)\n",
    "\n",
    "size_of_chessboard_squares_mm = 22\n",
    "objp = objp * size_of_chessboard_squares_mm\n",
    "\n",
    "# Arrays to store object points and image points from all the images.\n",
    "objpoints = [] # 3d point in real world space\n",
    "imgpoints = [] # 2d points in image plane.\n",
    "\n",
    "images = glob.glob('Images/*.png')\n",
    "\n",
    "for image in images:\n",
    "\n",
    "    img = cv.imread(image)\n",
    "    gray = cv.cvtColor(img, cv.COLOR_BGR2GRAY)\n",
    "\n",
    "    # Find the chess board corners\n",
    "    ret, corners = cv.findChessboardCorners(gray, chessboardSize, None)\n",
    "    # print(corners)\n",
    "\n",
    "    # If found, add object points, image points (after refining them)\n",
    "    if ret == True:\n",
    "\n",
    "        objpoints.append(objp)\n",
    "        corners2 = cv.cornerSubPix(gray, corners, (11,11), (-1,-1), criteria)\n",
    "        imgpoints.append(corners)\n",
    "\n",
    "        # Draw and display the corners\n",
    "        cv.drawChessboardCorners(img, chessboardSize, corners2, ret)\n",
    "        cv.imshow('img', img)\n",
    "        cv.waitKey(1)\n",
    "\n",
    "\n",
    "cv.destroyAllWindows()\n",
    "\n",
    "############## CALIBRATION #######################################################\n",
    "\n",
    "ret, cameraMatrix, dist, rvecs, tvecs = cv.calibrateCamera(objpoints, imgpoints, frameSize, None, None)\n",
    "\n",
    " ############## UNDISTORTION #####################################################\n",
    "\n",
    "img = cv.imread('Images/2.png')\n",
    "h,  w = img.shape[:2]\n",
    "newCameraMatrix, roi = cv.getOptimalNewCameraMatrix(cameraMatrix, dist, (w,h), 1, (w,h))\n",
    "\n",
    "# Undistort\n",
    "dst = cv.undistort(img, cameraMatrix, dist, None, newCameraMatrix)\n",
    "\n",
    "# crop the image\n",
    "x, y, w, h = roi\n",
    "dst = dst[y:y+h, x:x+w]\n",
    "cv.imwrite('caliResult1.png', dst)\n",
    "\n",
    "# Undistort with Remapping\n",
    "mapx, mapy = cv.initUndistortRectifyMap(cameraMatrix, dist, None, newCameraMatrix, (w,h), 5)\n",
    "dst = cv.remap(img, mapx, mapy, cv.INTER_LINEAR)\n",
    "\n",
    "# crop the image\n",
    "x, y, w, h = roi\n",
    "dst = dst[y:y+h, x:x+w]\n",
    "cv.imwrite('caliResult2.png', dst)\n",
    "\n",
    "# Reprojection Error\n",
    "mean_error = 0\n",
    "\n",
    "# for i in range(len(objpoints)):\n",
    "#     imgpoints2, _ = cv.projectPoints(objpoints[i], rvecs[i], tvecs[i], cameraMatrix, dist)\n",
    "#     error = cv.norm(imgpoints[i], imgpoints2, cv.NORM_L2)/len(imgpoints2)\n",
    "#     mean_error += error\n",
    "#\n",
    "# print( \"total error: {}\".format(mean_error/len(objpoints)))\n",
    "\n",
    "imgTest = cv.imread('caliResult1.png')\n",
    "gray = cv.cvtColor(imgTest, cv.COLOR_BGR2GRAY)\n",
    "\n",
    "# Find the chess board corners\n",
    "ret, corners = cv.findChessboardCorners(gray, chessboardSize, None)\n",
    "#print(corners)\n",
    "\n",
    "# If found, add object points, image points (after refining them)\n",
    "if ret == True:\n",
    "\n",
    "    objpoints.append(objp)\n",
    "    corners2 = cv.cornerSubPix(gray, corners, (11,11), (-1,-1), criteria)\n",
    "    imgpoints.append(corners)\n",
    "\n",
    "    # Draw and display the corners\n",
    "    cv.drawChessboardCorners(img, chessboardSize, corners2, ret)\n",
    "    cv.imshow('img', img)\n",
    "    cv.waitKey(1000)\n",
    "\n",
    "print(corners2)\n"
   ]
  },
  {
   "cell_type": "code",
   "execution_count": 34,
   "id": "7cb1382f",
   "metadata": {},
   "outputs": [
    {
     "data": {
      "text/plain": [
       "(28, 2)"
      ]
     },
     "execution_count": 34,
     "metadata": {},
     "output_type": "execute_result"
    }
   ],
   "source": [
    "np.shape(np.squeeze(corners2))"
   ]
  },
  {
   "cell_type": "code",
   "execution_count": 35,
   "id": "70c42c91",
   "metadata": {},
   "outputs": [
    {
     "data": {
      "text/plain": [
       "array([[  0.,   0.,   0.],\n",
       "       [ 22.,   0.,   0.],\n",
       "       [ 44.,   0.,   0.],\n",
       "       [ 66.,   0.,   0.],\n",
       "       [ 88.,   0.,   0.],\n",
       "       [110.,   0.,   0.],\n",
       "       [132.,   0.,   0.],\n",
       "       [  0.,  22.,   0.],\n",
       "       [ 22.,  22.,   0.],\n",
       "       [ 44.,  22.,   0.],\n",
       "       [ 66.,  22.,   0.],\n",
       "       [ 88.,  22.,   0.],\n",
       "       [110.,  22.,   0.],\n",
       "       [132.,  22.,   0.],\n",
       "       [  0.,  44.,   0.],\n",
       "       [ 22.,  44.,   0.],\n",
       "       [ 44.,  44.,   0.],\n",
       "       [ 66.,  44.,   0.],\n",
       "       [ 88.,  44.,   0.],\n",
       "       [110.,  44.,   0.],\n",
       "       [132.,  44.,   0.],\n",
       "       [  0.,  66.,   0.],\n",
       "       [ 22.,  66.,   0.],\n",
       "       [ 44.,  66.,   0.],\n",
       "       [ 66.,  66.,   0.],\n",
       "       [ 88.,  66.,   0.],\n",
       "       [110.,  66.,   0.],\n",
       "       [132.,  66.,   0.]], dtype=float32)"
      ]
     },
     "execution_count": 35,
     "metadata": {},
     "output_type": "execute_result"
    }
   ],
   "source": [
    "objp"
   ]
  },
  {
   "cell_type": "code",
   "execution_count": 36,
   "id": "9d989c04",
   "metadata": {},
   "outputs": [],
   "source": [
    "list1 = []"
   ]
  },
  {
   "cell_type": "code",
   "execution_count": 37,
   "id": "f57d024d",
   "metadata": {},
   "outputs": [
    {
     "data": {
      "text/plain": [
       "[array([0., 0.], dtype=float32),\n",
       " array([22.,  0.], dtype=float32),\n",
       " array([44.,  0.], dtype=float32),\n",
       " array([66.,  0.], dtype=float32),\n",
       " array([88.,  0.], dtype=float32),\n",
       " array([110.,   0.], dtype=float32),\n",
       " array([132.,   0.], dtype=float32),\n",
       " array([ 0., 22.], dtype=float32),\n",
       " array([22., 22.], dtype=float32),\n",
       " array([44., 22.], dtype=float32),\n",
       " array([66., 22.], dtype=float32),\n",
       " array([88., 22.], dtype=float32),\n",
       " array([110.,  22.], dtype=float32),\n",
       " array([132.,  22.], dtype=float32),\n",
       " array([ 0., 44.], dtype=float32),\n",
       " array([22., 44.], dtype=float32),\n",
       " array([44., 44.], dtype=float32),\n",
       " array([66., 44.], dtype=float32),\n",
       " array([88., 44.], dtype=float32),\n",
       " array([110.,  44.], dtype=float32),\n",
       " array([132.,  44.], dtype=float32),\n",
       " array([ 0., 66.], dtype=float32),\n",
       " array([22., 66.], dtype=float32),\n",
       " array([44., 66.], dtype=float32),\n",
       " array([66., 66.], dtype=float32),\n",
       " array([88., 66.], dtype=float32),\n",
       " array([110.,  66.], dtype=float32),\n",
       " array([132.,  66.], dtype=float32)]"
      ]
     },
     "execution_count": 37,
     "metadata": {},
     "output_type": "execute_result"
    }
   ],
   "source": [
    "for elements in objp:\n",
    "    elements = elements[:2] \n",
    "    list1.append(elements)\n",
    "list1"
   ]
  },
  {
   "cell_type": "code",
   "execution_count": 38,
   "id": "a77074b5",
   "metadata": {},
   "outputs": [
    {
     "data": {
      "text/plain": [
       "(28, 2)"
      ]
     },
     "execution_count": 38,
     "metadata": {},
     "output_type": "execute_result"
    }
   ],
   "source": [
    "np.shape(list1)"
   ]
  },
  {
   "cell_type": "code",
   "execution_count": 39,
   "id": "7d3cf46e",
   "metadata": {},
   "outputs": [
    {
     "name": "stdout",
     "output_type": "stream",
     "text": [
      "[(array([0., 0.], dtype=float32), array([ 45.90908, 333.01834], dtype=float32)), (array([22.,  0.], dtype=float32), array([ 44.732777, 296.5466  ], dtype=float32)), (array([44.,  0.], dtype=float32), array([ 43.868443, 259.65988 ], dtype=float32)), (array([66.,  0.], dtype=float32), array([ 42.60421, 223.04715], dtype=float32)), (array([88.,  0.], dtype=float32), array([ 41.91295, 186.33113], dtype=float32)), (array([110.,   0.], dtype=float32), array([ 41.705578, 149.46207 ], dtype=float32)), (array([132.,   0.], dtype=float32), array([ 41.769547, 113.02235 ], dtype=float32)), (array([ 0., 22.], dtype=float32), array([ 83.65147, 331.96585], dtype=float32)), (array([22., 22.], dtype=float32), array([ 82.73407, 295.60776], dtype=float32)), (array([44., 22.], dtype=float32), array([ 81.80902, 258.76434], dtype=float32)), (array([66., 22.], dtype=float32), array([ 80.74097, 222.34503], dtype=float32)), (array([88., 22.], dtype=float32), array([ 79.82566, 185.61302], dtype=float32)), (array([110.,  22.], dtype=float32), array([ 79.63622, 148.8949 ], dtype=float32)), (array([132.,  22.], dtype=float32), array([ 79.599625, 112.54216 ], dtype=float32)), (array([ 0., 44.], dtype=float32), array([120.92403, 331.28867], dtype=float32)), (array([22., 44.], dtype=float32), array([120.22875, 294.77762], dtype=float32)), (array([44., 44.], dtype=float32), array([119.35798, 258.1793 ], dtype=float32)), (array([66., 44.], dtype=float32), array([118.50692, 221.58434], dtype=float32)), (array([88., 44.], dtype=float32), array([117.68216, 185.1509 ], dtype=float32)), (array([110.,  44.], dtype=float32), array([117.52841, 148.43082], dtype=float32)), (array([132.,  44.], dtype=float32), array([117.16511 , 112.169624], dtype=float32)), (array([ 0., 66.], dtype=float32), array([157.81522, 330.58362], dtype=float32)), (array([22., 66.], dtype=float32), array([157.3921 , 293.98044], dtype=float32)), (array([44., 66.], dtype=float32), array([156.6153 , 257.34177], dtype=float32)), (array([66., 66.], dtype=float32), array([155.88177, 220.95   ], dtype=float32)), (array([88., 66.], dtype=float32), array([155.32243, 184.45726], dtype=float32)), (array([110.,  66.], dtype=float32), array([154.88914, 147.88818], dtype=float32)), (array([132.,  66.], dtype=float32), array([154.28537, 111.44098], dtype=float32))]\n"
     ]
    }
   ],
   "source": [
    "mylist = list(zip(list1, np.squeeze(corners2)))\n",
    "print(mylist)"
   ]
  },
  {
   "cell_type": "code",
   "execution_count": 40,
   "id": "a4c8e7f8",
   "metadata": {
    "scrolled": true
   },
   "outputs": [
    {
     "name": "stdout",
     "output_type": "stream",
     "text": [
      "[0. 0.] [ 45.90908 333.01834]\n",
      "[132.   0.] [ 41.769547 113.02235 ]\n",
      "[132.  66.] [154.28537 111.44098]\n",
      "[66.  0.] [ 42.60421 223.04715]\n"
     ]
    }
   ],
   "source": [
    "print(mylist[0][0], mylist[0][1])\n",
    "print(mylist[6][0], mylist[6][1])\n",
    "print(mylist[27][0], mylist[27][1])\n",
    "print(mylist[3][0], mylist[3][1])"
   ]
  },
  {
   "cell_type": "code",
   "execution_count": 41,
   "id": "a9a7f606",
   "metadata": {},
   "outputs": [],
   "source": [
    "features_mm_to_pixels_dict = {tuple(mylist[0][0]) : tuple(mylist[0][1]),\n",
    "                              tuple(mylist[6][0]) : tuple(mylist[6][1]),\n",
    "                              tuple(mylist[27][0]) : tuple(mylist[27][1]),\n",
    "                              tuple(mylist[3][0]) : tuple(mylist[3][1])}  "
   ]
  },
  {
   "cell_type": "code",
   "execution_count": 46,
   "id": "e7f384d3",
   "metadata": {},
   "outputs": [
    {
     "data": {
      "text/plain": [
       "True"
      ]
     },
     "execution_count": 46,
     "metadata": {},
     "output_type": "execute_result"
    }
   ],
   "source": [
    "import logging\n",
    "import cv2\n",
    "import numpy as np\n",
    "import copy\n",
    "\n",
    "logging.basicConfig(level=logging.DEBUG, format='%(asctime)-15s %(levelname)s \\t%(message)s')\n",
    "\n",
    "def draw_crosshair(image, center, width, color):\n",
    "    cv2.line(image, (center[0] - width//2, center[1]), (center[0] + width//2, center[1]), color, 2)\n",
    "    cv2.line(image, (center[0], center[1] - width//2), (center[0], center[1] + width//2), color, 2)\n",
    "\n",
    "image_filepath = \"caliResult1.png\"\n",
    "\n",
    "A = np.zeros((2 * len(features_mm_to_pixels_dict), 6), dtype=float)\n",
    "b = np.zeros((2 * len(features_mm_to_pixels_dict), 1), dtype=float)\n",
    "index = 0\n",
    "\n",
    "for XY, xy in features_mm_to_pixels_dict.items():\n",
    "    X = XY[0]\n",
    "    Y = XY[1]\n",
    "    x = xy[0]\n",
    "    y = xy[1]\n",
    "    A[2 * index, 0] = x\n",
    "    A[2 * index, 1] = y\n",
    "    A[2 * index, 2] = 1\n",
    "    A[2 * index + 1, 3] = x\n",
    "    A[2 * index + 1, 4] = y\n",
    "    A[2 * index + 1, 5] = 1\n",
    "    b[2 * index, 0] = X\n",
    "    b[2 * index + 1, 0] = Y\n",
    "    index += 1\n",
    "# A @ x = b\n",
    "x, residuals, rank, singular_values = np.linalg.lstsq(A, b, rcond=None)\n",
    "\n",
    "pixels_to_mm_transformation_mtx = np.array([[x[0, 0], x[1, 0], x[2, 0]], [x[3, 0], x[4, 0], x[5, 0]], [0, 0, 1]])\n",
    "logging.debug(\"main(): pixels_to_mm_transformation_mtx = \\n{}\".format(pixels_to_mm_transformation_mtx))\n",
    "\n",
    "mm_to_pixels_transformation_mtx = np.linalg.inv(pixels_to_mm_transformation_mtx)\n",
    "\n",
    "test_XY_2 = (22, 22, 1) # Nhap toa do test\n",
    "test_xy_2 = mm_to_pixels_transformation_mtx @ test_XY_2\n",
    "image = cv2.imread(image_filepath)\n",
    "annotated_img = copy.deepcopy(image)\n",
    "draw_crosshair(annotated_img, (round(test_xy_2[0]), round(test_xy_2[1])), 60, (0, 0, 255))\n",
    "cv2.imwrite(\"./outputs/annotatedFull.png\", annotated_img)"
   ]
  },
  {
   "cell_type": "code",
   "execution_count": null,
   "id": "04ff3bc9",
   "metadata": {},
   "outputs": [],
   "source": []
  }
 ],
 "metadata": {
  "kernelspec": {
   "display_name": "Python 3 (ipykernel)",
   "language": "python",
   "name": "python3"
  },
  "language_info": {
   "codemirror_mode": {
    "name": "ipython",
    "version": 3
   },
   "file_extension": ".py",
   "mimetype": "text/x-python",
   "name": "python",
   "nbconvert_exporter": "python",
   "pygments_lexer": "ipython3",
   "version": "3.8.6"
  }
 },
 "nbformat": 4,
 "nbformat_minor": 5
}
